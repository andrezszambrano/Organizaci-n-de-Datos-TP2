{
 "cells": [
  {
   "cell_type": "markdown",
   "metadata": {},
   "source": [
    "## Ejercicio 5\n",
    "Considerando el pagelink_sample.csv representar como un grafo en spark los contenidos de Wikipedia (considerando los contenidos como nodos y los links como aristas) como una lista de adyacencia y mostrar un recorrido en la estructura."
   ]
  },
  {
   "cell_type": "markdown",
   "metadata": {},
   "source": [
    "## Preparando sesión de Spark\n",
    "\n",
    "### Spark session y Spark context"
   ]
  },
  {
   "cell_type": "code",
   "execution_count": 1,
   "metadata": {},
   "outputs": [],
   "source": [
    "spark = SparkSession.builder.getOrCreate()\n",
    "sc = spark.sparkContext"
   ]
  },
  {
   "cell_type": "markdown",
   "metadata": {},
   "source": [
    "## Lectura de archivo"
   ]
  },
  {
   "cell_type": "code",
   "execution_count": 2,
   "metadata": {},
   "outputs": [],
   "source": [
    "#import pandas as pd\n",
    "import numpy as np \n",
    "\n",
    "#texts = pd.read_csv('./WikipediaDataset/pagelinks_sample.csv', usecols = [\"pl_from\", \"pl_title\"])\n",
    "#texts2 = pd.read_csv('./WikipediaDataset/contents.csv', usecols = [\"title\"])\n",
    "#texts = texts.loc[texts['pl_title'].isin(texts2['title']), :]\n",
    "#texts.to_parquet('./WikipediaDataset/pagelinks_sample.parquet')\n",
    "#del texts\n",
    "#Dataset de pagelinks_sample.parquet fue creado con las líneas anteriores, y ahora puede ser leído\n",
    "#de la siguiente forma:\n",
    "dataframePageLinks = sqlContext.read.parquet('./WikipediaDataset/pagelinks_sample.parquet')\n",
    "rddPageLinks = dataframePageLinks.rdd"
   ]
  },
  {
   "cell_type": "code",
   "execution_count": 3,
   "metadata": {},
   "outputs": [
    {
     "data": {
      "text/plain": [
       "[Row(pl_from=6418187, pl_title='Insecta', __index_level_0__=2),\n",
       " Row(pl_from=6571966, pl_title='IMDb', __index_level_0__=8),\n",
       " Row(pl_from=5461523, pl_title='Vandalismo', __index_level_0__=12),\n",
       " Row(pl_from=1098340, pl_title='Wikidata', __index_level_0__=13),\n",
       " Row(pl_from=6224910, pl_title='Referencias', __index_level_0__=16)]"
      ]
     },
     "execution_count": 3,
     "metadata": {},
     "output_type": "execute_result"
    }
   ],
   "source": [
    "rddPageLinks.take(5)"
   ]
  }
 ],
 "metadata": {
  "kernelspec": {
   "display_name": "Python 3",
   "language": "python",
   "name": "python3"
  },
  "language_info": {
   "codemirror_mode": {
    "name": "ipython",
    "version": 3
   },
   "file_extension": ".py",
   "mimetype": "text/x-python",
   "name": "python",
   "nbconvert_exporter": "python",
   "pygments_lexer": "ipython3",
   "version": "3.8.5"
  },
  "varInspector": {
   "cols": {
    "lenName": 16,
    "lenType": 16,
    "lenVar": 40
   },
   "kernels_config": {
    "python": {
     "delete_cmd_postfix": "",
     "delete_cmd_prefix": "del ",
     "library": "var_list.py",
     "varRefreshCmd": "print(var_dic_list())"
    },
    "r": {
     "delete_cmd_postfix": ") ",
     "delete_cmd_prefix": "rm(",
     "library": "var_list.r",
     "varRefreshCmd": "cat(var_dic_list()) "
    }
   },
   "types_to_exclude": [
    "module",
    "function",
    "builtin_function_or_method",
    "instance",
    "_Feature"
   ],
   "window_display": false
  }
 },
 "nbformat": 4,
 "nbformat_minor": 4
}
