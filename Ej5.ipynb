{
 "cells": [
  {
   "cell_type": "markdown",
   "metadata": {},
   "source": [
    "## Ejercicio 5\n",
    "Considerando el pagelink_sample.csv representar como un grafo en spark los contenidos de Wikipedia (considerando los contenidos como nodos y los links como aristas) como una lista de adyacencia y mostrar un recorrido en la estructura."
   ]
  },
  {
   "cell_type": "markdown",
   "metadata": {},
   "source": [
    "## Preparando sesión de Spark\n",
    "\n",
    "### Spark session y Spark context"
   ]
  },
  {
   "cell_type": "code",
   "execution_count": 1,
   "metadata": {},
   "outputs": [],
   "source": [
    "spark = SparkSession.builder.getOrCreate()\n",
    "sc = spark.sparkContext"
   ]
  },
  {
   "cell_type": "markdown",
   "metadata": {},
   "source": [
    "## Lectura de archivo"
   ]
  },
  {
   "cell_type": "code",
   "execution_count": 6,
   "metadata": {},
   "outputs": [],
   "source": [
    "#import pandas as pd\n",
    "import numpy as np "
   ]
  },
  {
   "cell_type": "code",
   "execution_count": 3,
   "metadata": {},
   "outputs": [],
   "source": [
    "#texts = pd.read_csv('./WikipediaDataset/pagelinks_sample.csv', usecols = [\"pl_from\", \"pl_title\"])\n",
    "#texts2 = pd.read_csv('./WikipediaDataset/contents.csv', usecols = [\"title\"])\n",
    "#texts = texts.loc[texts['pl_title'].isin(texts2['title']), :]\n",
    "#texts.to_parquet('./WikipediaDataset/pagelinks_sample.parquet')\n",
    "#del texts\n",
    "#Dataset de pagelinks_sample.parquet fue creado con las líneas anteriores, y ahora puede ser leído\n",
    "#de la siguiente forma:\n",
    "dataframePageLinks = sqlContext.read.parquet('./WikipediaDataset/pagelinks_sample.parquet')\n",
    "rddPageLinks = dataframePageLinks.rdd"
   ]
  },
  {
   "cell_type": "code",
   "execution_count": 7,
   "metadata": {},
   "outputs": [],
   "source": [
    "#texts = pd.read_csv('./WikipediaDataset/contents.csv', usecols = [\"title\", \"id\"])\n",
    "#texts.to_parquet('./WikipediaDataset/contentsTitleId.parquet')\n",
    "#del texts\n",
    "#Dataset de contentsTitleId.parquet fue creado con las líneas anteriores, y ahora puede ser leído\n",
    "#de la siguiente forma:\n",
    "dataframeContents = sqlContext.read.parquet('./WikipediaDataset/contentsTitleId.parquet')\n",
    "rddContents = dataframeContents.rdd"
   ]
  },
  {
   "cell_type": "markdown",
   "metadata": {},
   "source": [
    "## Preparando y limpiando los datasets"
   ]
  },
  {
   "cell_type": "code",
   "execution_count": 9,
   "metadata": {},
   "outputs": [
    {
     "data": {
      "text/plain": [
       "[Row(pl_from=6418187, pl_title='Insecta', __index_level_0__=2),\n",
       " Row(pl_from=6571966, pl_title='IMDb', __index_level_0__=8),\n",
       " Row(pl_from=5461523, pl_title='Vandalismo', __index_level_0__=12),\n",
       " Row(pl_from=1098340, pl_title='Wikidata', __index_level_0__=13),\n",
       " Row(pl_from=6224910, pl_title='Referencias', __index_level_0__=16)]"
      ]
     },
     "execution_count": 9,
     "metadata": {},
     "output_type": "execute_result"
    }
   ],
   "source": [
    "rddPageLinks1 = rddPageLinks\n",
    "rddPageLinks1.take(5)"
   ]
  },
  {
   "cell_type": "code",
   "execution_count": 10,
   "metadata": {},
   "outputs": [
    {
     "data": {
      "text/plain": [
       "20572932"
      ]
     },
     "execution_count": 10,
     "metadata": {},
     "output_type": "execute_result"
    }
   ],
   "source": [
    "rddPageLinks1.count()"
   ]
  },
  {
   "cell_type": "code",
   "execution_count": 11,
   "metadata": {},
   "outputs": [
    {
     "data": {
      "text/plain": [
       "[(6418187, 'Insecta'),\n",
       " (6571966, 'IMDb'),\n",
       " (5461523, 'Vandalismo'),\n",
       " (1098340, 'Wikidata'),\n",
       " (6224910, 'Referencias')]"
      ]
     },
     "execution_count": 11,
     "metadata": {},
     "output_type": "execute_result"
    }
   ],
   "source": [
    "rddPageLinks1 = rddPageLinks1.map(lambda x: (x[0], x[1])).filter(lambda x: ((x[0] != None) and (x[1] != None)))\n",
    "rddPageLinks1.take(5)"
   ]
  },
  {
   "cell_type": "code",
   "execution_count": 12,
   "metadata": {},
   "outputs": [
    {
     "data": {
      "text/plain": [
       "20572828"
      ]
     },
     "execution_count": 12,
     "metadata": {},
     "output_type": "execute_result"
    }
   ],
   "source": [
    "rddPageLinks1.count()"
   ]
  },
  {
   "cell_type": "code",
   "execution_count": 13,
   "metadata": {},
   "outputs": [],
   "source": [
    "rddContents1 = rddContents"
   ]
  },
  {
   "cell_type": "code",
   "execution_count": 14,
   "metadata": {},
   "outputs": [
    {
     "data": {
      "text/plain": [
       "[Row(title='Wikipedia:Artículos solicitados', id=5),\n",
       " Row(title='Andorra', id=7),\n",
       " Row(title='Argentina', id=10),\n",
       " Row(title='Geografía de Andorra', id=15),\n",
       " Row(title='Demografía de Andorra', id=17)]"
      ]
     },
     "execution_count": 14,
     "metadata": {},
     "output_type": "execute_result"
    }
   ],
   "source": [
    "rddContents1.take(5)"
   ]
  },
  {
   "cell_type": "code",
   "execution_count": 15,
   "metadata": {},
   "outputs": [
    {
     "data": {
      "text/plain": [
       "4132164"
      ]
     },
     "execution_count": 15,
     "metadata": {},
     "output_type": "execute_result"
    }
   ],
   "source": [
    "rddContents1.count()"
   ]
  },
  {
   "cell_type": "code",
   "execution_count": 16,
   "metadata": {},
   "outputs": [
    {
     "data": {
      "text/plain": [
       "[(5, 'Wikipedia:Artículos solicitados'),\n",
       " (7, 'Andorra'),\n",
       " (10, 'Argentina'),\n",
       " (15, 'Geografía de Andorra'),\n",
       " (17, 'Demografía de Andorra')]"
      ]
     },
     "execution_count": 16,
     "metadata": {},
     "output_type": "execute_result"
    }
   ],
   "source": [
    "rddContents1 = rddContents1.filter(lambda x: ((x[0] != None) and (x[1] != None))).map(lambda x: (x[1], x[0]))\n",
    "rddContents1.take(5)"
   ]
  },
  {
   "cell_type": "code",
   "execution_count": 17,
   "metadata": {},
   "outputs": [
    {
     "data": {
      "text/plain": [
       "4132160"
      ]
     },
     "execution_count": 17,
     "metadata": {},
     "output_type": "execute_result"
    }
   ],
   "source": [
    "rddContents1.count()"
   ]
  },
  {
   "cell_type": "markdown",
   "metadata": {},
   "source": [
    "## Desarrollo"
   ]
  },
  {
   "cell_type": "code",
   "execution_count": 18,
   "metadata": {},
   "outputs": [
    {
     "data": {
      "text/plain": [
       "[(2432, ('Wikipedia:Qué es un wiki', 'Wiki')),\n",
       " (20144, ('1358', 'Duque')),\n",
       " (20144, ('1358', '1358')),\n",
       " (20144, ('1358', '1359')),\n",
       " (20144, ('1358', 'Francia'))]"
      ]
     },
     "execution_count": 18,
     "metadata": {},
     "output_type": "execute_result"
    }
   ],
   "source": [
    "rddJoin = rddContents1.join(rddPageLinks1)\n",
    "rddJoin.take(5)"
   ]
  },
  {
   "cell_type": "code",
   "execution_count": 19,
   "metadata": {},
   "outputs": [
    {
     "data": {
      "text/plain": [
       "[('Seat (estrella)', 'Wikidata'),\n",
       " ('Seat (estrella)', 'Sadachbia'),\n",
       " ('Seat (estrella)', 'Luminosidad'),\n",
       " ('Seat (estrella)', 'Kelvin'),\n",
       " ('Seat (estrella)', 'Km/s')]"
      ]
     },
     "execution_count": 19,
     "metadata": {},
     "output_type": "execute_result"
    }
   ],
   "source": [
    "rddPageLinksConTitulos = rddJoin.map(lambda x: (x[1][0], x[1][1]))\n",
    "rddPageLinksConTitulos.take(5)"
   ]
  },
  {
   "cell_type": "code",
   "execution_count": 22,
   "metadata": {},
   "outputs": [
    {
     "data": {
      "text/plain": [
       "[('Luis Emilio Sierra',\n",
       "  <pyspark.resultiterable.ResultIterable at 0x7f63986617c0>),\n",
       " ('HMS Curacoa (D41)',\n",
       "  <pyspark.resultiterable.ResultIterable at 0x7f63986616d0>),\n",
       " ('Flakstadøya', <pyspark.resultiterable.ResultIterable at 0x7f6398661880>),\n",
       " ('Wikiproyecto:Mujeres/Mujeres en la arquitectura/Fotos e imágenes',\n",
       "  <pyspark.resultiterable.ResultIterable at 0x7f6398661850>),\n",
       " ('Naftalina', <pyspark.resultiterable.ResultIterable at 0x7f6398661970>)]"
      ]
     },
     "execution_count": 22,
     "metadata": {},
     "output_type": "execute_result"
    }
   ],
   "source": [
    "rddListaDeAdyacencia = rddPageLinksConTitulos.groupBy(lambda x: x[0])\n",
    "rddListaDeAdyacencia.take(5)"
   ]
  },
  {
   "cell_type": "code",
   "execution_count": 23,
   "metadata": {},
   "outputs": [
    {
     "data": {
      "text/plain": [
       "1884622"
      ]
     },
     "execution_count": 23,
     "metadata": {},
     "output_type": "execute_result"
    }
   ],
   "source": [
    "rddListaDeAdyacencia.count()"
   ]
  },
  {
   "cell_type": "code",
   "execution_count": 28,
   "metadata": {},
   "outputs": [
    {
     "data": {
      "text/plain": [
       "[('Luis Emilio Sierra',\n",
       "  [('Luis Emilio Sierra', '2006'),\n",
       "   ('Luis Emilio Sierra', 'Manizales'),\n",
       "   ('Luis Emilio Sierra', '2010'),\n",
       "   ('Luis Emilio Sierra', '2014'),\n",
       "   ('Luis Emilio Sierra', 'Abogado'),\n",
       "   ('Luis Emilio Sierra', '2002'),\n",
       "   ('Luis Emilio Sierra', '1960')]),\n",
       " ('HMS Curacoa (D41)',\n",
       "  [('HMS Curacoa (D41)', 'Eslora'),\n",
       "   ('HMS Curacoa (D41)', 'Derry'),\n",
       "   ('HMS Curacoa (D41)', 'Km'),\n",
       "   ('HMS Curacoa (D41)', 'Chatham'),\n",
       "   ('HMS Curacoa (D41)', 'Mesana'),\n",
       "   ('HMS Curacoa (D41)', 'Roda'),\n",
       "   ('HMS Curacoa (D41)', 'Galerna'),\n",
       "   ('HMS Curacoa (D41)', 'Greenock'),\n",
       "   ('HMS Curacoa (D41)', 'Curacao'),\n",
       "   ('HMS Curacoa (D41)', '1917'),\n",
       "   ('HMS Curacoa (D41)', 'Proa'),\n",
       "   ('HMS Curacoa (D41)', 'Dragaminas'),\n",
       "   ('HMS Curacoa (D41)', 'Popa'),\n",
       "   ('HMS Curacoa (D41)', '1916'),\n",
       "   ('HMS Curacoa (D41)', 'Wikidata')]),\n",
       " ('Flakstadøya',\n",
       "  [('Flakstadøya', 'OpenStreetMap'),\n",
       "   ('Flakstadøya', 'Lofoten'),\n",
       "   ('Flakstadøya', 'Noruega'),\n",
       "   ('Flakstadøya', 'Flakstad'),\n",
       "   ('Flakstadøya', 'Wikidata')]),\n",
       " ('Wikiproyecto:Mujeres/Mujeres en la arquitectura/Fotos e imágenes',\n",
       "  [('Wikiproyecto:Mujeres/Mujeres en la arquitectura/Fotos e imágenes',\n",
       "    'Mujeres')]),\n",
       " ('Naftalina',\n",
       "  [('Naftalina', 'ChEMBL'),\n",
       "   ('Naftalina', 'Alquenos'),\n",
       "   ('Naftalina', 'Octanaje'),\n",
       "   ('Naftalina', 'Calcio'),\n",
       "   ('Naftalina', 'ChEBI'),\n",
       "   ('Naftalina', 'Amina'),\n",
       "   ('Naftalina', 'Polilla'),\n",
       "   ('Naftalina', 'Nafta'),\n",
       "   ('Naftalina', 'Inflamable'),\n",
       "   ('Naftalina', 'Kilogramo'),\n",
       "   ('Naftalina', 'PubChem'),\n",
       "   ('Naftalina', 'EINECS'),\n",
       "   ('Naftalina', 'Kelvin'),\n",
       "   ('Naftalina', 'Sodio'),\n",
       "   ('Naftalina', 'Alcoholes'),\n",
       "   ('Naftalina', 'Carbono'),\n",
       "   ('Naftalina', 'Wikidata'),\n",
       "   ('Naftalina', 'Naftaleno'),\n",
       "   ('Naftalina', 'UNII'),\n",
       "   ('Naftalina', 'Viscosidad'),\n",
       "   ('Naftalina', 'Solubilidad'),\n",
       "   ('Naftalina', 'ISBN'),\n",
       "   ('Naftalina', 'Densidad'),\n",
       "   ('Naftalina', 'Gramo'),\n",
       "   ('Naftalina', 'Olor'),\n",
       "   ('Naftalina', 'Madera'),\n",
       "   ('Naftalina', 'Mol'),\n",
       "   ('Naftalina', 'KEGG')])]"
      ]
     },
     "execution_count": 28,
     "metadata": {},
     "output_type": "execute_result"
    }
   ],
   "source": [
    "rddListaDeAdyacencia = rddListaDeAdyacencia.map(lambda x: (x[0], list(x[1])))\n",
    "rddListaDeAdyacencia.take(5)"
   ]
  },
  {
   "cell_type": "code",
   "execution_count": 78,
   "metadata": {},
   "outputs": [],
   "source": [
    "def dame_nombre_vecino(x, i):\n",
    "    return x[1][i][1]"
   ]
  },
  {
   "cell_type": "code",
   "execution_count": 79,
   "metadata": {},
   "outputs": [],
   "source": [
    "def iterar_grafo(rddLista):\n",
    "    nodo = rddLista.first()\n",
    "    print(nodo[0])\n",
    "    lista = range(0, 10)\n",
    "    for i in lista:\n",
    "        j = 0\n",
    "        nombreVecino = dame_nombre_vecino(nodo, j)\n",
    "        posibleVecino = rddLista.filter(lambda x: x[0] == nombreVecino)\n",
    "        while (posibleVecino.isEmpty()):\n",
    "            j = j + 1\n",
    "            nombreVecino = dame_nombre_vecino(nodo, j)\n",
    "            posibleVecino = rddLista.filter(lambda x: x[0] == nombreVecino)\n",
    "            \n",
    "        vecino = posibleVecino.first()\n",
    "        print(vecino[0])\n",
    "        nodo = vecino\n",
    "        "
   ]
  },
  {
   "cell_type": "code",
   "execution_count": 80,
   "metadata": {},
   "outputs": [
    {
     "name": "stdout",
     "output_type": "stream",
     "text": [
      "Luis Emilio Sierra\n",
      "2006\n",
      "Dinamarca\n",
      "Wikiviajes\n",
      "Alemania\n",
      "Cerveza\n",
      "Bierpalast\n",
      "Alemania\n",
      "Cerveza\n",
      "Bierpalast\n",
      "Alemania\n"
     ]
    }
   ],
   "source": [
    "iterar_grafo(rddListaDeAdyacencia)"
   ]
  },
  {
   "cell_type": "markdown",
   "metadata": {},
   "source": [
    "## Conclusión\n",
    "Después de haber hecho la lista de adyacencias del grafo, se puede realizar un recorrido por sus nodos. Acá se puede observar que hay un ciclo cerrado entre Alemania, la Cerveza, y el Bierpalast, será casualidad?"
   ]
  },
  {
   "cell_type": "markdown",
   "metadata": {},
   "source": [
    "## En limpio\n",
    "A lo largo de la consigna se fueron descubriendo los rdds para ir verificando cuáles operaciones hacer y que todo funcione correctamente. Con esto en mente está claro que la consigna puede ser resuelta con menos líneas de código, por lo que se procede a mostrar una solución 'final', con los rdds recién leídos y cargados, saltándose los pasos intermedios de investigación de los rdds.\n",
    "\n",
    "Las siguientes transformaciones y acciones están hechas sobre los rdds originales obtenidos al hacer la lectura de los archivos correspondientes."
   ]
  },
  {
   "cell_type": "markdown",
   "metadata": {},
   "source": [
    "Las funciones para iterar el grafo están definidas en el cuerpo de desarrollo del presente archivo. Incluyelas antes de ejecutar en limpio."
   ]
  },
  {
   "cell_type": "code",
   "execution_count": 81,
   "metadata": {},
   "outputs": [],
   "source": [
    "rddPageLinks = rddPageLinks.map(lambda x: (x[0], x[1])).filter(lambda x: ((x[0] != None) and (x[1] != None)))\n",
    "rddContents = rddContents.filter(lambda x: ((x[0] != None) and (x[1] != None))).map(lambda x: (x[1], x[0]))"
   ]
  },
  {
   "cell_type": "code",
   "execution_count": 82,
   "metadata": {},
   "outputs": [
    {
     "data": {
      "text/plain": [
       "[('Partenón',\n",
       "  [('Partenón', 'Votiva'),\n",
       "   ('Partenón', 'Pronaos'),\n",
       "   ('Partenón', 'Constantinopla'),\n",
       "   ('Partenón', 'Atenas'),\n",
       "   ('Partenón', 'Bajorrelieve'),\n",
       "   ('Partenón', 'ISSN'),\n",
       "   ('Partenón', 'Anastilosis'),\n",
       "   ('Partenón', 'Apolo'),\n",
       "   ('Partenón', 'Entablamento'),\n",
       "   ('Partenón', 'ISBN'),\n",
       "   ('Partenón', 'Friso'),\n",
       "   ('Partenón', 'Bronce'),\n",
       "   ('Partenón', 'Plutarco'),\n",
       "   ('Partenón', 'Cambridge'),\n",
       "   ('Partenón', 'Atenea'),\n",
       "   ('Partenón', 'Olivo'),\n",
       "   ('Partenón', 'Mezquita'),\n",
       "   ('Partenón', 'Panateneas'),\n",
       "   ('Partenón', 'Fidias'),\n",
       "   ('Partenón', 'Virgilio'),\n",
       "   ('Partenón', 'Paros'),\n",
       "   ('Partenón', 'Zeus'),\n",
       "   ('Partenón', 'Criselefantino'),\n",
       "   ('Partenón', 'Wikidata'),\n",
       "   ('Partenón', 'Mundo'),\n",
       "   ('Partenón', 'Persia'),\n",
       "   ('Partenón', 'Jerjes'),\n",
       "   ('Partenón', 'Recta'),\n",
       "   ('Partenón', 'Acrotera'),\n",
       "   ('Partenón', 'Polis'),\n",
       "   ('Partenón', 'Tridente'),\n",
       "   ('Partenón', 'Delos')]),\n",
       " ('BAC', [('BAC', 'Catolicismo')]),\n",
       " ('Bomba atómica',\n",
       "  [('Bomba atómica', 'Israel'),\n",
       "   ('Bomba atómica', 'Kiribati'),\n",
       "   ('Bomba atómica', 'Radioactividad'),\n",
       "   ('Bomba atómica', 'Helio'),\n",
       "   ('Bomba atómica', 'RDS-6s'),\n",
       "   ('Bomba atómica', 'Litio'),\n",
       "   ('Bomba atómica', 'Kiritimati'),\n",
       "   ('Bomba atómica', 'Reggane'),\n",
       "   ('Bomba atómica', 'Wikidata'),\n",
       "   ('Bomba atómica', 'India'),\n",
       "   ('Bomba atómica', 'Uranio-235'),\n",
       "   ('Bomba atómica', 'Uranio'),\n",
       "   ('Bomba atómica', 'Pokhran'),\n",
       "   ('Bomba atómica', 'Uranio-238'),\n",
       "   ('Bomba atómica', 'Nagasaki'),\n",
       "   ('Bomba atómica', 'Plomo'),\n",
       "   ('Bomba atómica', 'Verificabilidad'),\n",
       "   ('Bomba atómica', 'Plutonio-239'),\n",
       "   ('Bomba atómica', 'ABQ'),\n",
       "   ('Bomba atómica', 'Radiactividad'),\n",
       "   ('Bomba atómica', 'RDS-1'),\n",
       "   ('Bomba atómica', 'Tritio'),\n",
       "   ('Bomba atómica', 'Fangataufa'),\n",
       "   ('Bomba atómica', 'Hipocentro'),\n",
       "   ('Bomba atómica', 'Deuterio'),\n",
       "   ('Bomba atómica', '1945'),\n",
       "   ('Bomba atómica', 'Australia')]),\n",
       " ('278',\n",
       "  [('278', 'Probo'),\n",
       "   ('278', 'Siglo'),\n",
       "   ('278', '280'),\n",
       "   ('278', '275'),\n",
       "   ('278', 'Wikidata')]),\n",
       " ('820',\n",
       "  [('820', '821'),\n",
       "   ('820', 'Bera'),\n",
       "   ('820', '891'),\n",
       "   ('820', '788'),\n",
       "   ('820', '906'),\n",
       "   ('820', 'Borrell'),\n",
       "   ('820', '820'),\n",
       "   ('820', 'Irak'),\n",
       "   ('820', 'Tang'),\n",
       "   ('820', 'Tahir'),\n",
       "   ('820', '878'),\n",
       "   ('820', '778'),\n",
       "   ('820', '817'),\n",
       "   ('820', 'Gales'),\n",
       "   ('820', 'Bizancio'),\n",
       "   ('820', 'Utrecht'),\n",
       "   ('820', '818'),\n",
       "   ('820', 'Bagdad'),\n",
       "   ('820', '775'),\n",
       "   ('820', 'Wikidata'),\n",
       "   ('820', '819')])]"
      ]
     },
     "execution_count": 82,
     "metadata": {},
     "output_type": "execute_result"
    }
   ],
   "source": [
    "rddListaDeAdyacencia = rddContents.join(rddPageLinks).map(lambda x: (x[1][0], x[1][1])).groupBy(lambda x: x[0])\\\n",
    "                        .map(lambda x: (x[0], list(x[1])))\n",
    "rddListaDeAdyacencia.take(5)"
   ]
  },
  {
   "cell_type": "code",
   "execution_count": 83,
   "metadata": {},
   "outputs": [
    {
     "name": "stdout",
     "output_type": "stream",
     "text": [
      "Partenón\n",
      "Pronaos\n",
      "Fachada\n",
      "Azotea\n",
      "Pararrayos\n",
      "Incendio\n",
      "Madera\n",
      "Higroscopicidad\n",
      "Higroscopia\n",
      "Hidroxilamina\n",
      "KEGG\n"
     ]
    }
   ],
   "source": [
    "iterar_grafo(rddListaDeAdyacencia)"
   ]
  }
 ],
 "metadata": {
  "kernelspec": {
   "display_name": "Python 3",
   "language": "python",
   "name": "python3"
  },
  "language_info": {
   "codemirror_mode": {
    "name": "ipython",
    "version": 3
   },
   "file_extension": ".py",
   "mimetype": "text/x-python",
   "name": "python",
   "nbconvert_exporter": "python",
   "pygments_lexer": "ipython3",
   "version": "3.8.5"
  },
  "varInspector": {
   "cols": {
    "lenName": 16,
    "lenType": 16,
    "lenVar": 40
   },
   "kernels_config": {
    "python": {
     "delete_cmd_postfix": "",
     "delete_cmd_prefix": "del ",
     "library": "var_list.py",
     "varRefreshCmd": "print(var_dic_list())"
    },
    "r": {
     "delete_cmd_postfix": ") ",
     "delete_cmd_prefix": "rm(",
     "library": "var_list.r",
     "varRefreshCmd": "cat(var_dic_list()) "
    }
   },
   "types_to_exclude": [
    "module",
    "function",
    "builtin_function_or_method",
    "instance",
    "_Feature"
   ],
   "window_display": false
  }
 },
 "nbformat": 4,
 "nbformat_minor": 4
}
