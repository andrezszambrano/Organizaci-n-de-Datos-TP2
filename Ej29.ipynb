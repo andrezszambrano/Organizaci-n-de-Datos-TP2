{
 "cells": [
  {
   "cell_type": "markdown",
   "metadata": {},
   "source": [
    "## Ejercicio 29\n",
    "Para los contenidos visibles en wikipedia, cuales son los artículos que tienen la máxima y mínima distancia entre ids de su revisión actual y la anterior. "
   ]
  },
  {
   "cell_type": "markdown",
   "metadata": {},
   "source": [
    "## Preparando sesión de Spark\n",
    "\n",
    "### Spark session y Spark context"
   ]
  },
  {
   "cell_type": "code",
   "execution_count": 1,
   "metadata": {},
   "outputs": [],
   "source": [
    "spark = SparkSession.builder.getOrCreate()\n",
    "sc = spark.sparkContext"
   ]
  },
  {
   "cell_type": "code",
   "execution_count": 2,
   "metadata": {},
   "outputs": [],
   "source": [
    "import pandas as pd\n",
    "import numpy as np \n",
    "texts = pd.read_csv('./WikipediaDataset/contents.csv', usecols = [\"title\", \"revision_id\", \"parent_revision\"])\n",
    "texts.to_parquet('./WikipediaDataset/contentsConRevisiones.parquet')\n",
    "del texts\n",
    "#Dataset de contentsConRevisiones.parquet fue creado con las líneas anteriores, y ahora puede ser leído\n",
    "#de la siguiente forma:\n",
    "dataframeContents = sqlContext.read.parquet('./WikipediaDataset/contentsConRevisiones.parquet')\n",
    "rddContents = dataframeContents.rdd"
   ]
  },
  {
   "cell_type": "markdown",
   "metadata": {},
   "source": [
    "## Preparando y limpiando el dataset"
   ]
  },
  {
   "cell_type": "code",
   "execution_count": 7,
   "metadata": {},
   "outputs": [
    {
     "data": {
      "text/plain": [
       "MapPartitionsRDD[17] at javaToPython at NativeMethodAccessorImpl.java:0"
      ]
     },
     "execution_count": 7,
     "metadata": {},
     "output_type": "execute_result"
    }
   ],
   "source": [
    "rddContents"
   ]
  },
  {
   "cell_type": "code",
   "execution_count": 3,
   "metadata": {},
   "outputs": [
    {
     "data": {
      "text/plain": [
       "[Row(title='Wikipedia:Artículos solicitados', revision_id=132533307, parent_revision=132516631.0),\n",
       " Row(title='Andorra', revision_id=138035057, parent_revision=138027475.0),\n",
       " Row(title='Argentina', revision_id=137966826, parent_revision=137825165.0),\n",
       " Row(title='Geografía de Andorra', revision_id=137986788, parent_revision=133666383.0),\n",
       " Row(title='Demografía de Andorra', revision_id=130869554, parent_revision=129413188.0)]"
      ]
     },
     "execution_count": 3,
     "metadata": {},
     "output_type": "execute_result"
    }
   ],
   "source": [
    "rddContents1 = rddContents\n",
    "rddContents1.take(5)"
   ]
  },
  {
   "cell_type": "code",
   "execution_count": 10,
   "metadata": {},
   "outputs": [
    {
     "data": {
      "text/plain": [
       "4132164"
      ]
     },
     "execution_count": 10,
     "metadata": {},
     "output_type": "execute_result"
    }
   ],
   "source": [
    "rddContents1.count()"
   ]
  },
  {
   "cell_type": "code",
   "execution_count": 13,
   "metadata": {},
   "outputs": [
    {
     "data": {
      "text/plain": [
       "4132160"
      ]
     },
     "execution_count": 13,
     "metadata": {},
     "output_type": "execute_result"
    }
   ],
   "source": [
    "rddContents1 = rddContents1.filter(lambda x: ((x[0] != None) and (x[1] != None)))\n",
    "rddContents1.count()"
   ]
  },
  {
   "cell_type": "code",
   "execution_count": 16,
   "metadata": {},
   "outputs": [
    {
     "data": {
      "text/plain": [
       "[('Wikipedia:Artículos solicitados', 132533307, 132516631.0),\n",
       " ('Andorra', 138035057, 138027475.0),\n",
       " ('Argentina', 137966826, 137825165.0),\n",
       " ('Geografía de Andorra', 137986788, 133666383.0),\n",
       " ('Demografía de Andorra', 130869554, 129413188.0)]"
      ]
     },
     "execution_count": 16,
     "metadata": {},
     "output_type": "execute_result"
    }
   ],
   "source": [
    "rddContents1 = rddContents1.map(lambda x: (x[0], x[1], 0 if (x[2] == None) else x[2]))\n",
    "rddContents1.take(5)"
   ]
  },
  {
   "cell_type": "markdown",
   "metadata": {},
   "source": [
    "## Desarrollo"
   ]
  },
  {
   "cell_type": "code",
   "execution_count": 18,
   "metadata": {},
   "outputs": [
    {
     "data": {
      "text/plain": [
       "[('Wikipedia:Artículos solicitados', 16676.0),\n",
       " ('Andorra', 7582.0),\n",
       " ('Argentina', 141661.0),\n",
       " ('Geografía de Andorra', 4320405.0),\n",
       " ('Demografía de Andorra', 1456366.0)]"
      ]
     },
     "execution_count": 18,
     "metadata": {},
     "output_type": "execute_result"
    }
   ],
   "source": [
    "rddConDistancias = rddContents1.map(lambda x: (x[0], abs(x[1] - x[2])))\n",
    "rddConDistancias.take(5)"
   ]
  },
  {
   "cell_type": "markdown",
   "metadata": {},
   "source": [
    "#### Máxima"
   ]
  },
  {
   "cell_type": "code",
   "execution_count": 20,
   "metadata": {},
   "outputs": [
    {
     "name": "stdout",
     "output_type": "stream",
     "text": [
      "('Medalla Conmemorativa del 50.º Aniversario de la Milítsia', 138051961)\n"
     ]
    }
   ],
   "source": [
    "filaMaxima = rddConDistancias.reduce(lambda x, y: x if (x[1] > y[1]) else y)\n",
    "print(filaMaxima)"
   ]
  },
  {
   "cell_type": "markdown",
   "metadata": {},
   "source": [
    "#### Mínima\n"
   ]
  },
  {
   "cell_type": "code",
   "execution_count": 21,
   "metadata": {},
   "outputs": [
    {
     "name": "stdout",
     "output_type": "stream",
     "text": [
      "('Río Mātukituki', 1.0)\n"
     ]
    }
   ],
   "source": [
    "filaMinima = rddConDistancias.reduce(lambda x, y: x if (x[1] < y[1]) else y)\n",
    "print(filaMinima)"
   ]
  },
  {
   "cell_type": "code",
   "execution_count": 22,
   "metadata": {},
   "outputs": [
    {
     "data": {
      "text/plain": [
       "18146"
      ]
     },
     "execution_count": 22,
     "metadata": {},
     "output_type": "execute_result"
    }
   ],
   "source": [
    "rddConDistancias.filter(lambda x: x[1] == 1).count()"
   ]
  },
  {
   "cell_type": "markdown",
   "metadata": {},
   "source": [
    "## Conclusión\n",
    "Se puede observar que la diferencia máxima entre ids de corrección actual y del padre es de 138.051.961, encontrandose en el contenido 'Medalla Conmemorativa del 50.º Aniversario de la Milítsia', mientras que la mínima distancia es de 1, esta estando en el contenido 'Río Mātukituki'. Sin embargo, se demostró que en realidad hay más de 18 mil contenidos que cuentan con la misma distancia mínima. "
   ]
  },
  {
   "cell_type": "markdown",
   "metadata": {},
   "source": [
    "## En limpio\n",
    "A lo largo de la consigna se fue descubriendo los rdds para ir verificando cuáles operaciones hacer y que todo funcione correctamente. Con esto en mente está claro que la consigna puede ser resuelta con menos líneas de código, por lo que se procede a mostrar una solución 'final', con los rdds recién leídos y cargados, saltándose los pasos intermedios de investigación de los rdds.\n",
    "\n",
    "Las siguientes transformaciones y acciones están hechas sobre el rdds original obtenido al hacer la lectura del archivo correspondiente."
   ]
  },
  {
   "cell_type": "code",
   "execution_count": 26,
   "metadata": {},
   "outputs": [],
   "source": [
    "rddDistancias = rddContents.filter(lambda x: ((x[0] != None) and (x[1] != None)))\\\n",
    ".map(lambda x: (x[0], x[1], 0 if (x[2] == None) else x[2])).map(lambda x: (x[0], abs(x[1] - x[2]))).cache()"
   ]
  },
  {
   "cell_type": "markdown",
   "metadata": {},
   "source": [
    "Se hace un cache() para tener en cache el rddDistancias al que aplicar las dos acciones siguientes. "
   ]
  },
  {
   "cell_type": "markdown",
   "metadata": {},
   "source": [
    "#### Máxima"
   ]
  },
  {
   "cell_type": "code",
   "execution_count": 27,
   "metadata": {},
   "outputs": [
    {
     "name": "stdout",
     "output_type": "stream",
     "text": [
      "('Medalla Conmemorativa del 50.º Aniversario de la Milítsia', 138051961)\n"
     ]
    }
   ],
   "source": [
    "print(rddConDistancias.reduce(lambda x, y: x if (x[1] > y[1]) else y))"
   ]
  },
  {
   "cell_type": "markdown",
   "metadata": {},
   "source": [
    "#### Mínima"
   ]
  },
  {
   "cell_type": "code",
   "execution_count": 28,
   "metadata": {},
   "outputs": [
    {
     "name": "stdout",
     "output_type": "stream",
     "text": [
      "('Río Mātukituki', 1.0)\n"
     ]
    }
   ],
   "source": [
    "print(rddConDistancias.reduce(lambda x, y: x if (x[1] < y[1]) else y))"
   ]
  }
 ],
 "metadata": {
  "kernelspec": {
   "display_name": "Python 3",
   "language": "python",
   "name": "python3"
  },
  "varInspector": {
   "cols": {
    "lenName": 16,
    "lenType": 16,
    "lenVar": 40
   },
   "kernels_config": {
    "python": {
     "delete_cmd_postfix": "",
     "delete_cmd_prefix": "del ",
     "library": "var_list.py",
     "varRefreshCmd": "print(var_dic_list())"
    },
    "r": {
     "delete_cmd_postfix": ") ",
     "delete_cmd_prefix": "rm(",
     "library": "var_list.r",
     "varRefreshCmd": "cat(var_dic_list()) "
    }
   },
   "types_to_exclude": [
    "module",
    "function",
    "builtin_function_or_method",
    "instance",
    "_Feature"
   ],
   "window_display": false
  }
 },
 "nbformat": 4,
 "nbformat_minor": 4
}
