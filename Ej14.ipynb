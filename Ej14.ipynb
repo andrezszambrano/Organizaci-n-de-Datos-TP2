{
 "cells": [
  {
   "cell_type": "markdown",
   "metadata": {},
   "source": [
    "## Ejercicio 14\n",
    "El top 5 de contenidos que tienen la mayor cantidad de redirecciones que apuntan a ellos."
   ]
  },
  {
   "cell_type": "markdown",
   "metadata": {},
   "source": [
    "## Preparando sesión de Spark\n",
    "\n",
    "### Spark session y Spark context"
   ]
  },
  {
   "cell_type": "code",
   "execution_count": 1,
   "metadata": {},
   "outputs": [],
   "source": [
    "spark = SparkSession.builder.getOrCreate()\n",
    "sc = spark.sparkContext"
   ]
  },
  {
   "cell_type": "markdown",
   "metadata": {},
   "source": [
    "## Lectura de archivo"
   ]
  },
  {
   "cell_type": "code",
   "execution_count": 5,
   "metadata": {},
   "outputs": [],
   "source": [
    "#import pandas as pd\n",
    "import numpy as np \n",
    "#texts = pd.read_csv('./WikipediaDataset/redirect_list.csv', usecols = [\"rd_from\", \"rd_title\"])\n",
    "#texts.to_parquet('./WikipediaDataset/redirect_list.parquet')\n",
    "#del texts\n",
    "#Dataset de redirect_list.parquet fue creado con las líneas anteriores, y ahora puede ser leído\n",
    "#de la siguiente forma:\n",
    "dataframeRL = sqlContext.read.parquet('./WikipediaDataset/redirect_list.parquet')\n",
    "rddRL = dataframeRL.rdd"
   ]
  },
  {
   "cell_type": "markdown",
   "metadata": {},
   "source": [
    "## Preparando y limpiando el dataset"
   ]
  },
  {
   "cell_type": "code",
   "execution_count": 6,
   "metadata": {},
   "outputs": [
    {
     "data": {
      "text/plain": [
       "MapPartitionsRDD[7] at javaToPython at NativeMethodAccessorImpl.java:0"
      ]
     },
     "execution_count": 6,
     "metadata": {},
     "output_type": "execute_result"
    }
   ],
   "source": [
    "rddRL"
   ]
  },
  {
   "cell_type": "code",
   "execution_count": 7,
   "metadata": {},
   "outputs": [],
   "source": [
    "rddRL1 = rddRL"
   ]
  },
  {
   "cell_type": "code",
   "execution_count": 8,
   "metadata": {},
   "outputs": [
    {
     "data": {
      "text/plain": [
       "[Row(rd_from=54, rd_title='Apiales'),\n",
       " Row(rd_from=57, rd_title='Atmósfera'),\n",
       " Row(rd_from=58, rd_title='Archaea'),\n",
       " Row(rd_from=82, rd_title='Agujero_de_gusano'),\n",
       " Row(rd_from=108, rd_title='Stipa')]"
      ]
     },
     "execution_count": 8,
     "metadata": {},
     "output_type": "execute_result"
    }
   ],
   "source": [
    "rddRL1.take(5)"
   ]
  },
  {
   "cell_type": "code",
   "execution_count": 9,
   "metadata": {},
   "outputs": [
    {
     "data": {
      "text/plain": [
       "1960402"
      ]
     },
     "execution_count": 9,
     "metadata": {},
     "output_type": "execute_result"
    }
   ],
   "source": [
    "rddRL1.count()"
   ]
  },
  {
   "cell_type": "code",
   "execution_count": 10,
   "metadata": {},
   "outputs": [
    {
     "data": {
      "text/plain": [
       "1960400"
      ]
     },
     "execution_count": 10,
     "metadata": {},
     "output_type": "execute_result"
    }
   ],
   "source": [
    "rddRL1 = rddRL1.filter(lambda x: ((x[0] != None) and (x[1] != None)))\n",
    "rddRL1.count()"
   ]
  },
  {
   "cell_type": "markdown",
   "metadata": {},
   "source": [
    "## Desarrollo"
   ]
  },
  {
   "cell_type": "code",
   "execution_count": 11,
   "metadata": {},
   "outputs": [
    {
     "data": {
      "text/plain": [
       "[('Apiales', 1),\n",
       " ('Atmósfera', 1),\n",
       " ('Archaea', 1),\n",
       " ('Agujero_de_gusano', 1),\n",
       " ('Stipa', 1)]"
      ]
     },
     "execution_count": 11,
     "metadata": {},
     "output_type": "execute_result"
    }
   ],
   "source": [
    "rddRL1 = rddRL1.map(lambda x: (x[1], 1))\n",
    "rddRL1.take(5)"
   ]
  },
  {
   "cell_type": "code",
   "execution_count": 13,
   "metadata": {},
   "outputs": [
    {
     "data": {
      "text/plain": [
       "[('Atmósfera', 8),\n",
       " ('Arthropogon', 1),\n",
       " ('Lamarckia', 21),\n",
       " ('Bambusa', 15),\n",
       " ('Fala_(valle_de_Jálama)', 26)]"
      ]
     },
     "execution_count": 13,
     "metadata": {},
     "output_type": "execute_result"
    }
   ],
   "source": [
    "rddRL1 = rddRL1.reduceByKey(lambda x, y: x + y)\n",
    "rddRL1.take(5)"
   ]
  },
  {
   "cell_type": "code",
   "execution_count": 14,
   "metadata": {},
   "outputs": [
    {
     "name": "stdout",
     "output_type": "stream",
     "text": [
      "[('Artículo_futuro', 1161), ('IV_milenio', 1001), ('V_milenio', 998), ('Estaciones_de_Metrobús_de_la_Ciudad_de_México', 396), ('163.117.0.0', 310)]\n"
     ]
    }
   ],
   "source": [
    "listTop5 = rddRL1.takeOrdered(5, lambda x: -x[1]) \n",
    "print(listTop5)"
   ]
  },
  {
   "cell_type": "markdown",
   "metadata": {},
   "source": [
    "## Conclusión\n",
    "Haciendo los pasos de desarrollo se logra obtener los títulos de los 5 contenidos con más cantidad de redirecciones recibidas. En el top 3 concentran 1000 o más redirecciones, mientras que el cuarto tiene casi 400, y el siguiente tiene poco más de 300 redirecciones. "
   ]
  },
  {
   "cell_type": "markdown",
   "metadata": {},
   "source": [
    "## En limpio\n",
    "A lo largo de la consigna se fue descubriendo los rdds para ir verificando cuáles operaciones hacer y que todo funcione correctamente. Con esto en mente está claro que la consigna puede ser resuelta con menos líneas de código, por lo que se procede a mostrar una solución 'final', con los rdds recién leídos y cargados, saltándose los pasos intermedios de investigación de los rdds.\n",
    "\n",
    "Las siguientes transformaciones y acciones están hechas sobre el rdds original obtenido al hacer la lectura del archivo correspondiente."
   ]
  },
  {
   "cell_type": "code",
   "execution_count": 15,
   "metadata": {},
   "outputs": [
    {
     "name": "stdout",
     "output_type": "stream",
     "text": [
      "[('Artículo_futuro', 1161), ('IV_milenio', 1001), ('V_milenio', 998), ('Estaciones_de_Metrobús_de_la_Ciudad_de_México', 396), ('163.117.0.0', 310)]\n"
     ]
    }
   ],
   "source": [
    "print(rddRL.filter(lambda x: ((x[0] != None) and (x[1] != None))).map(lambda x: (x[1], 1))\\\n",
    "      .reduceByKey(lambda x, y: x + y).takeOrdered(5, lambda x: -x[1]))"
   ]
  }
 ],
 "metadata": {
  "kernelspec": {
   "display_name": "Python 3",
   "language": "python",
   "name": "python3"
  },
  "varInspector": {
   "cols": {
    "lenName": 16,
    "lenType": 16,
    "lenVar": 40
   },
   "kernels_config": {
    "python": {
     "delete_cmd_postfix": "",
     "delete_cmd_prefix": "del ",
     "library": "var_list.py",
     "varRefreshCmd": "print(var_dic_list())"
    },
    "r": {
     "delete_cmd_postfix": ") ",
     "delete_cmd_prefix": "rm(",
     "library": "var_list.r",
     "varRefreshCmd": "cat(var_dic_list()) "
    }
   },
   "types_to_exclude": [
    "module",
    "function",
    "builtin_function_or_method",
    "instance",
    "_Feature"
   ],
   "window_display": false
  }
 },
 "nbformat": 4,
 "nbformat_minor": 4
}
