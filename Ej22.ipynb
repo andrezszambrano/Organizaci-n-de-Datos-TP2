{
 "cells": [
  {
   "cell_type": "markdown",
   "metadata": {},
   "source": [
    "## Ejercicio 22\n",
    "Top 5 de lenguajes usados por usuarios bilingües. "
   ]
  },
  {
   "cell_type": "markdown",
   "metadata": {},
   "source": [
    "## Preparando sesión de Spark\n",
    "\n",
    "### Spark session y Spark context"
   ]
  },
  {
   "cell_type": "code",
   "execution_count": 1,
   "metadata": {},
   "outputs": [],
   "source": [
    "spark = SparkSession.builder.getOrCreate()\n",
    "sc = spark.sparkContext"
   ]
  },
  {
   "cell_type": "markdown",
   "metadata": {},
   "source": [
    "## Lectura de archivo"
   ]
  },
  {
   "cell_type": "code",
   "execution_count": 2,
   "metadata": {},
   "outputs": [],
   "source": [
    "#import pandas as pd\n",
    "import numpy as np \n",
    "#texts = pd.read_csv('./WikipediaDataset/languages.csv', usecols = [\"babel_user\", \"babel_lang\"])\n",
    "#texts.to_parquet('./WikipediaDataset/languagesSinNivel.parquet')\n",
    "#del texts\n",
    "#Dataset de languagesSinNivel.parquet fue creado con las líneas anteriores, y ahora puede ser \n",
    "#leído de la siguiente forma:\n",
    "dataframeLenguajes = sqlContext.read.parquet('./WikipediaDataset/languagesSinNivel.parquet')\n",
    "rddLenguajes = dataframeLenguajes.rdd"
   ]
  },
  {
   "cell_type": "markdown",
   "metadata": {},
   "source": [
    "## Preparando y limpiando el dataset"
   ]
  },
  {
   "cell_type": "code",
   "execution_count": 3,
   "metadata": {},
   "outputs": [
    {
     "data": {
      "text/plain": [
       "MapPartitionsRDD[7] at javaToPython at NativeMethodAccessorImpl.java:0"
      ]
     },
     "execution_count": 3,
     "metadata": {},
     "output_type": "execute_result"
    }
   ],
   "source": [
    "rddLenguajes"
   ]
  },
  {
   "cell_type": "code",
   "execution_count": 4,
   "metadata": {},
   "outputs": [],
   "source": [
    "rddLenguajes1 = rddLenguajes"
   ]
  },
  {
   "cell_type": "code",
   "execution_count": 5,
   "metadata": {},
   "outputs": [
    {
     "data": {
      "text/plain": [
       "[Row(babel_user=4502458, babel_lang='FR'),\n",
       " Row(babel_user=5928200, babel_lang='aa'),\n",
       " Row(babel_user=46918, babel_lang='ab'),\n",
       " Row(babel_user=2050449, babel_lang='ab'),\n",
       " Row(babel_user=4715583, babel_lang='ace')]"
      ]
     },
     "execution_count": 5,
     "metadata": {},
     "output_type": "execute_result"
    }
   ],
   "source": [
    "rddLenguajes1.take(5)"
   ]
  },
  {
   "cell_type": "code",
   "execution_count": 6,
   "metadata": {},
   "outputs": [
    {
     "data": {
      "text/plain": [
       "35666"
      ]
     },
     "execution_count": 6,
     "metadata": {},
     "output_type": "execute_result"
    }
   ],
   "source": [
    "rddLenguajes1.count()"
   ]
  },
  {
   "cell_type": "code",
   "execution_count": 7,
   "metadata": {},
   "outputs": [
    {
     "data": {
      "text/plain": [
       "35662"
      ]
     },
     "execution_count": 7,
     "metadata": {},
     "output_type": "execute_result"
    }
   ],
   "source": [
    "rddLenguajes1 = rddLenguajes1.filter(lambda x: ((x[0] != None) and (x[1] != None)))\n",
    "rddLenguajes1.count()"
   ]
  },
  {
   "cell_type": "markdown",
   "metadata": {},
   "source": [
    "## Desarrollo"
   ]
  },
  {
   "cell_type": "code",
   "execution_count": 8,
   "metadata": {},
   "outputs": [
    {
     "data": {
      "text/plain": [
       "[(4502458, 3), (5928200, 190), (46918, 3), (2050449, 7), (4715583, 30)]"
      ]
     },
     "execution_count": 8,
     "metadata": {},
     "output_type": "execute_result"
    }
   ],
   "source": [
    "rddLenguajesPorUsuario = rddLenguajes1.map(lambda x: (x[0], 1)).reduceByKey(lambda x, y: x + y)\n",
    "rddLenguajesPorUsuario.take(5)"
   ]
  },
  {
   "cell_type": "code",
   "execution_count": 9,
   "metadata": {},
   "outputs": [
    {
     "data": {
      "text/plain": [
       "[(1801431, 2), (1724336, 2), (1725400, 2), (674716, 2), (4334792, 2)]"
      ]
     },
     "execution_count": 9,
     "metadata": {},
     "output_type": "execute_result"
    }
   ],
   "source": [
    "rddUsuariosBilingues = rddLenguajesPorUsuario.filter(lambda x: (x[1] == 2))\n",
    "rddUsuariosBilingues.take(5)"
   ]
  },
  {
   "cell_type": "code",
   "execution_count": 10,
   "metadata": {},
   "outputs": [
    {
     "data": {
      "text/plain": [
       "3136"
      ]
     },
     "execution_count": 10,
     "metadata": {},
     "output_type": "execute_result"
    }
   ],
   "source": [
    "rddUsuariosBilingues.count()"
   ]
  },
  {
   "cell_type": "code",
   "execution_count": 11,
   "metadata": {},
   "outputs": [
    {
     "data": {
      "text/plain": [
       "[(1724336, (2, 'ang')),\n",
       " (1724336, (2, 'es')),\n",
       " (1725400, (2, 'ang')),\n",
       " (1725400, (2, 'es')),\n",
       " (674716, (2, 'ar'))]"
      ]
     },
     "execution_count": 11,
     "metadata": {},
     "output_type": "execute_result"
    }
   ],
   "source": [
    "rddUsuariosBilinguesConLenguajes = rddUsuariosBilingues.join(rddLenguajes1)\n",
    "rddUsuariosBilinguesConLenguajes.take(5)"
   ]
  },
  {
   "cell_type": "code",
   "execution_count": 12,
   "metadata": {},
   "outputs": [
    {
     "data": {
      "text/plain": [
       "[('ang', 1), ('es', 1), ('ang', 1), ('es', 1), ('ar', 1)]"
      ]
     },
     "execution_count": 12,
     "metadata": {},
     "output_type": "execute_result"
    }
   ],
   "source": [
    "rddLenguajesUsadosPorBilingues = rddUsuariosBilinguesConLenguajes.map(lambda x: (x[1][1], 1))\n",
    "rddLenguajesUsadosPorBilingues.take(5)"
   ]
  },
  {
   "cell_type": "code",
   "execution_count": 13,
   "metadata": {},
   "outputs": [
    {
     "data": {
      "text/plain": [
       "[('ar', 2), ('ca', 54), ('en', 2944), ('da', 2), ('hu', 1)]"
      ]
     },
     "execution_count": 13,
     "metadata": {},
     "output_type": "execute_result"
    }
   ],
   "source": [
    "rddLenguajesUsadosPorBilingues = rddLenguajesUsadosPorBilingues.reduceByKey(lambda x, y: x + y)\n",
    "rddLenguajesUsadosPorBilingues.take(5)"
   ]
  },
  {
   "cell_type": "code",
   "execution_count": 14,
   "metadata": {},
   "outputs": [
    {
     "name": "stdout",
     "output_type": "stream",
     "text": [
      "[('es', 3054), ('en', 2944), ('fr', 56), ('ca', 54), ('pt', 22)]\n"
     ]
    }
   ],
   "source": [
    "print(rddLenguajesUsadosPorBilingues.takeOrdered(5, lambda x: -x[1]))"
   ]
  },
  {
   "cell_type": "markdown",
   "metadata": {},
   "source": [
    "## Conclusión\n",
    "De las 3136 personas que afirman ser bilingues (con cualquier nivel en babel), 3054 tienen cierto nivel de español mientras que 2944 tienen cierto nivel de inglés. Mucho más atrás, el tercer idioma más hablado por bilingües es el frances, con 56 personas, seguido por 54 personas que hablan catalán, y por último el portugues, con 22 hablantes."
   ]
  },
  {
   "cell_type": "markdown",
   "metadata": {},
   "source": [
    "## En limpio\n",
    "A lo largo de la consigna se fue descubriendo los rdds para ir verificando cuáles operaciones hacer y que todo funcione correctamente. Con esto en mente está claro que la consigna puede ser resuelta con menos líneas de código, por lo que se procede a mostrar una solución 'final', con los rdds recién leídos y cargados, saltándose los pasos intermedios de investigación de los rdds.\n",
    "\n",
    "Las siguientes transformaciones y acciones están hechas sobre el rdds original obtenido al hacer la lectura del archivo correspondiente."
   ]
  },
  {
   "cell_type": "code",
   "execution_count": 15,
   "metadata": {},
   "outputs": [],
   "source": [
    "rddUsuariosBilingues = rddLenguajes.filter(lambda x: ((x[0] != None) and (x[1] != None)))\\\n",
    ".map(lambda x: (x[0], 1)).reduceByKey(lambda x, y: x + y).filter(lambda x: (x[1] == 2))"
   ]
  },
  {
   "cell_type": "code",
   "execution_count": 16,
   "metadata": {},
   "outputs": [
    {
     "name": "stdout",
     "output_type": "stream",
     "text": [
      "[('es', 3054), ('en', 2944), ('fr', 56), ('ca', 54), ('pt', 22)]\n"
     ]
    }
   ],
   "source": [
    "print(rddUsuariosBilingues.join(rddLenguajes).map(lambda x: (x[1][1], 1)).reduceByKey(lambda x, y: x + y)\\\n",
    "      .takeOrdered(5, lambda x: -x[1]))"
   ]
  }
 ],
 "metadata": {
  "kernelspec": {
   "display_name": "Python 3",
   "language": "python",
   "name": "python3"
  },
  "language_info": {
   "codemirror_mode": {
    "name": "ipython",
    "version": 3
   },
   "file_extension": ".py",
   "mimetype": "text/x-python",
   "name": "python",
   "nbconvert_exporter": "python",
   "pygments_lexer": "ipython3",
   "version": "3.8.5"
  },
  "varInspector": {
   "cols": {
    "lenName": 16,
    "lenType": 16,
    "lenVar": 40
   },
   "kernels_config": {
    "python": {
     "delete_cmd_postfix": "",
     "delete_cmd_prefix": "del ",
     "library": "var_list.py",
     "varRefreshCmd": "print(var_dic_list())"
    },
    "r": {
     "delete_cmd_postfix": ") ",
     "delete_cmd_prefix": "rm(",
     "library": "var_list.r",
     "varRefreshCmd": "cat(var_dic_list()) "
    }
   },
   "types_to_exclude": [
    "module",
    "function",
    "builtin_function_or_method",
    "instance",
    "_Feature"
   ],
   "window_display": false
  }
 },
 "nbformat": 4,
 "nbformat_minor": 4
}
