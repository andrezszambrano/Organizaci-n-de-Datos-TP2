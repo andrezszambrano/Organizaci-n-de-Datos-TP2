{
 "cells": [
  {
   "cell_type": "markdown",
   "metadata": {},
   "source": [
    "## Ejercicio 1\n",
    "Considerando los logs de acciones realizadas sobre ítems, mostrar el top 10 de ids."
   ]
  },
  {
   "cell_type": "markdown",
   "metadata": {},
   "source": [
    "## Preparando sesión de Spark"
   ]
  },
  {
   "cell_type": "markdown",
   "metadata": {},
   "source": [
    "### Spark session y Spark context"
   ]
  },
  {
   "cell_type": "code",
   "execution_count": 1,
   "metadata": {},
   "outputs": [],
   "source": [
    "spark = SparkSession.builder.getOrCreate()\n",
    "sc = spark.sparkContext"
   ]
  },
  {
   "cell_type": "markdown",
   "metadata": {},
   "source": [
    "## Lectura de archivos"
   ]
  },
  {
   "cell_type": "code",
   "execution_count": 2,
   "metadata": {},
   "outputs": [],
   "source": [
    "#import pandas as pd\n",
    "import numpy as np "
   ]
  },
  {
   "cell_type": "code",
   "execution_count": 3,
   "metadata": {},
   "outputs": [],
   "source": [
    "#texts = pd.read_csv('./WikipediaDataset/logs.csv', usecols = [\"action\", \"logtype\", \"title\"])\n",
    "#texts.to_parquet('./WikipediaDataset/logs_ActionLogtypeTitle.parquet')\n",
    "#del texts\n",
    "#Dataset de logs.parquet fue creado con las líneas anteriores, y ahora puede ser leído de la siguiente forma:\n",
    "dataframeLogs = sqlContext.read.parquet('./WikipediaDataset/logs_ActionLogtypeTitle.parquet')\n",
    "rddLogs = dataframeLogs.rdd"
   ]
  },
  {
   "cell_type": "code",
   "execution_count": 4,
   "metadata": {},
   "outputs": [],
   "source": [
    "#texts = pd.read_csv('./WikipediaDataset/contents.csv', usecols = [\"title\", \"id\"])\n",
    "#texts.to_parquet('./WikipediaDataset/contentsTitleId.parquet')\n",
    "#del texts\n",
    "dataframeContents = sqlContext.read.parquet('./WikipediaDataset/contentsTitleId.parquet')\n",
    "rddContents = dataframeContents.rdd"
   ]
  },
  {
   "cell_type": "markdown",
   "metadata": {},
   "source": [
    "## Preparando y limpiando los datasets"
   ]
  },
  {
   "cell_type": "markdown",
   "metadata": {},
   "source": [
    "Archivo Logs"
   ]
  },
  {
   "cell_type": "code",
   "execution_count": 5,
   "metadata": {},
   "outputs": [
    {
     "data": {
      "text/plain": [
       "MapPartitionsRDD[7] at javaToPython at NativeMethodAccessorImpl.java:0"
      ]
     },
     "execution_count": 5,
     "metadata": {},
     "output_type": "execute_result"
    }
   ],
   "source": [
    "rddLogs"
   ]
  },
  {
   "cell_type": "code",
   "execution_count": 6,
   "metadata": {},
   "outputs": [],
   "source": [
    "rddLogs1 = rddLogs"
   ]
  },
  {
   "cell_type": "code",
   "execution_count": 7,
   "metadata": {},
   "outputs": [
    {
     "data": {
      "text/plain": [
       "[Row(logtype='delete', action='delete', title='Verificacionismo'),\n",
       " Row(logtype='delete', action='delete', title='Rapunzel'),\n",
       " Row(logtype='delete', action='delete', title='Macromedia Flash'),\n",
       " Row(logtype='delete', action='delete', title='Archivo:Gnu head.png'),\n",
       " Row(logtype='delete', action='delete', title='Archivo:Gnu-head-sm.jpg')]"
      ]
     },
     "execution_count": 7,
     "metadata": {},
     "output_type": "execute_result"
    }
   ],
   "source": [
    "rddLogs1.take(5)"
   ]
  },
  {
   "cell_type": "code",
   "execution_count": 8,
   "metadata": {},
   "outputs": [
    {
     "data": {
      "text/plain": [
       "12188946"
      ]
     },
     "execution_count": 8,
     "metadata": {},
     "output_type": "execute_result"
    }
   ],
   "source": [
    "rddLogs1.count()"
   ]
  },
  {
   "cell_type": "code",
   "execution_count": 9,
   "metadata": {},
   "outputs": [],
   "source": [
    "rddLogs1 = rddLogs1.filter(lambda x: ((x[0] != None) and (x[1] != None) and (x[2] != None)))"
   ]
  },
  {
   "cell_type": "code",
   "execution_count": 10,
   "metadata": {},
   "outputs": [
    {
     "data": {
      "text/plain": [
       "12186939"
      ]
     },
     "execution_count": 10,
     "metadata": {},
     "output_type": "execute_result"
    }
   ],
   "source": [
    "rddLogs1.count()"
   ]
  },
  {
   "cell_type": "code",
   "execution_count": 11,
   "metadata": {},
   "outputs": [
    {
     "data": {
      "text/plain": [
       "[('Verificacionismo', 1),\n",
       " ('Rapunzel', 1),\n",
       " ('Macromedia Flash', 1),\n",
       " ('Archivo:Gnu head.png', 1),\n",
       " ('Archivo:Gnu-head-sm.jpg', 1)]"
      ]
     },
     "execution_count": 11,
     "metadata": {},
     "output_type": "execute_result"
    }
   ],
   "source": [
    "rddTitulos = rddLogs1.map(lambda x: (x[2], 1))\n",
    "rddTitulos.take(5)"
   ]
  },
  {
   "cell_type": "code",
   "execution_count": 12,
   "metadata": {},
   "outputs": [
    {
     "data": {
      "text/plain": [
       "[('Sonchus acaulis', 2),\n",
       " ('Archivo:11M1.JPG', 2),\n",
       " ('Yubaba', 2),\n",
       " ('Mudhoney', 1),\n",
       " ('Cacabelos (León)', 1)]"
      ]
     },
     "execution_count": 12,
     "metadata": {},
     "output_type": "execute_result"
    }
   ],
   "source": [
    "rddTitulos = rddTitulos.reduceByKey(lambda x, y: x + y)\n",
    "rddTitulos.take(5)"
   ]
  },
  {
   "cell_type": "markdown",
   "metadata": {},
   "source": [
    "Ya el rddTitulos está listo para hacer un join.\n",
    "\n",
    "Se procede ahora con el rdd del archivo contents."
   ]
  },
  {
   "cell_type": "code",
   "execution_count": 13,
   "metadata": {},
   "outputs": [
    {
     "data": {
      "text/plain": [
       "MapPartitionsRDD[15] at javaToPython at NativeMethodAccessorImpl.java:0"
      ]
     },
     "execution_count": 13,
     "metadata": {},
     "output_type": "execute_result"
    }
   ],
   "source": [
    "rddContents"
   ]
  },
  {
   "cell_type": "code",
   "execution_count": 20,
   "metadata": {},
   "outputs": [],
   "source": [
    "rddContents1 = rddContents"
   ]
  },
  {
   "cell_type": "code",
   "execution_count": 15,
   "metadata": {},
   "outputs": [
    {
     "data": {
      "text/plain": [
       "[Row(title='Wikipedia:Artículos solicitados', id=5),\n",
       " Row(title='Andorra', id=7),\n",
       " Row(title='Argentina', id=10),\n",
       " Row(title='Geografía de Andorra', id=15),\n",
       " Row(title='Demografía de Andorra', id=17)]"
      ]
     },
     "execution_count": 15,
     "metadata": {},
     "output_type": "execute_result"
    }
   ],
   "source": [
    "rddContents1.take(5)"
   ]
  },
  {
   "cell_type": "code",
   "execution_count": 16,
   "metadata": {},
   "outputs": [
    {
     "data": {
      "text/plain": [
       "4132164"
      ]
     },
     "execution_count": 16,
     "metadata": {},
     "output_type": "execute_result"
    }
   ],
   "source": [
    "rddContents1.count()"
   ]
  },
  {
   "cell_type": "code",
   "execution_count": 17,
   "metadata": {},
   "outputs": [
    {
     "data": {
      "text/plain": [
       "4132160"
      ]
     },
     "execution_count": 17,
     "metadata": {},
     "output_type": "execute_result"
    }
   ],
   "source": [
    "rddContents1 = rddContents1.filter(lambda x: ((x[0] != None) and (x[1] != None)))\n",
    "rddContents1.count()"
   ]
  },
  {
   "cell_type": "code",
   "execution_count": 18,
   "metadata": {},
   "outputs": [
    {
     "data": {
      "text/plain": [
       "[('Wikipedia:Artículos solicitados', 5),\n",
       " ('Andorra', 7),\n",
       " ('Argentina', 10),\n",
       " ('Geografía de Andorra', 15),\n",
       " ('Demografía de Andorra', 17)]"
      ]
     },
     "execution_count": 18,
     "metadata": {},
     "output_type": "execute_result"
    }
   ],
   "source": [
    "rddContents1 = rddContents.map(lambda x: (x[0], x[1]))\n",
    "rddContents1.take(5)"
   ]
  },
  {
   "cell_type": "markdown",
   "metadata": {},
   "source": [
    "## Desarrollo"
   ]
  },
  {
   "cell_type": "markdown",
   "metadata": {},
   "source": [
    "Se procede a hacer un inner join para quedarse con la intersección de ambos rdd. Como tanto en el rdd de losgs y el rdd de contents no hay títulos repetidos, esta operación no dará filas con títulos repetidos. "
   ]
  },
  {
   "cell_type": "code",
   "execution_count": 21,
   "metadata": {},
   "outputs": [
    {
     "data": {
      "text/plain": [
       "1193007"
      ]
     },
     "execution_count": 21,
     "metadata": {},
     "output_type": "execute_result"
    }
   ],
   "source": [
    "rddJoin = rddTitulos.join(rddContents1)\n",
    "rddJoin.count()"
   ]
  },
  {
   "cell_type": "code",
   "execution_count": 22,
   "metadata": {},
   "outputs": [
    {
     "data": {
      "text/plain": [
       "[('Librería Nacional de Medicina de los Estados Unidos', (2, 2344816)),\n",
       " ('Copa Nacional de San Cristóbal y Nieves', (2, 9782925)),\n",
       " ('Claudio Zolla', (2, 9795812)),\n",
       " ('Aldo Bufi Landi', (2, 9850508)),\n",
       " ('Venom', (4, 224692))]"
      ]
     },
     "execution_count": 22,
     "metadata": {},
     "output_type": "execute_result"
    }
   ],
   "source": [
    "rddJoin.take(5)"
   ]
  },
  {
   "cell_type": "markdown",
   "metadata": {},
   "source": [
    "Finalmente se pueden ordenar los contenidos según la cantidad de veces de que el título aparece en logs. Se procede entonces a quedarse con los 10 primeros que aparecen más en logs."
   ]
  },
  {
   "cell_type": "code",
   "execution_count": 23,
   "metadata": {},
   "outputs": [
    {
     "name": "stdout",
     "output_type": "stream",
     "text": [
      "[('Wikipedia:Portada', (521, 2271189)), ('Wikipedia:Vandalismo en curso', (343, 19013)), ('Wikipedia:Tablón de anuncios de los bibliotecarios/Portal/Archivo/Miscelánea/Actual', (324, 951915)), ('Plantilla:Ficha de entidad subnacional', (305, 314958)), ('Wikipedia:Informes de error', (159, 4074354)), ('Anexo:Wikipedias', (159, 208803)), ('Wikipedia:Tablón de anuncios de los bibliotecarios/Portal/Archivo/Violaciones de etiqueta/Actual', (147, 1725457)), ('Anexo:Pokémon de la primera generación', (130, 810532)), ('Bandera del Reino Unido', (113, 41189)), ('Wikipedia:Café/Archivo/Miscelánea/Actual', (104, 514941))]\n"
     ]
    }
   ],
   "source": [
    "listTop10 = rddJoin.takeOrdered(10, lambda x: -x[1][0]) \n",
    "print(listTop10)"
   ]
  },
  {
   "cell_type": "markdown",
   "metadata": {},
   "source": [
    "## Conclusión\n",
    "Se puede observar que los contenidos con más cantidad de logs están relacionados a los contenidos pertenecientes a las subcategorías de 'Wikipedia:', 'Anexo:'.  "
   ]
  },
  {
   "cell_type": "markdown",
   "metadata": {},
   "source": [
    "## En limpio\n",
    "A lo largo de la consigna se fuerpn descubriendo los rdds para ir verificando cuáles operaciones hacer y que todo funcione correctamente. Con esto en mente está claro que la consigna puede ser resuelta con menos líneas de código, por lo que se procede a mostrar una solución 'final', con los rdds recién leídos y cargados, saltándose los pasos intermedios de investigación de los rdds.\n",
    "\n",
    "Las siguientes transformaciones y acciones están hechas sobre los rdds originales obtenidos al hacer la lectura de los archivos correspondientes."
   ]
  },
  {
   "cell_type": "code",
   "execution_count": 24,
   "metadata": {},
   "outputs": [],
   "source": [
    "rddTitulos = rddLogs.filter(lambda x: ((x[0] != None) and (x[1] != None) and (x[2] != None)))\\\n",
    ".map(lambda x: (x[2], 1)).reduceByKey(lambda x, y: x + y)\n",
    "\n",
    "rddContents = rddContents.filter(lambda x: ((x[0] != None) and (x[1] != None))).map(lambda x: (x[0], x[1]))"
   ]
  },
  {
   "cell_type": "code",
   "execution_count": null,
   "metadata": {},
   "outputs": [],
   "source": [
    "print(rddTitulos.join(rddContents).takeOrdered(10, lambda x: -x[1][0]))"
   ]
  }
 ],
 "metadata": {
  "kernelspec": {
   "display_name": "Python 3",
   "language": "python",
   "name": "python3"
  },
  "language_info": {
   "codemirror_mode": {
    "name": "ipython",
    "version": 3
   },
   "file_extension": ".py",
   "mimetype": "text/x-python",
   "name": "python",
   "nbconvert_exporter": "python",
   "pygments_lexer": "ipython3",
   "version": "3.8.5"
  },
  "varInspector": {
   "cols": {
    "lenName": 16,
    "lenType": 16,
    "lenVar": 40
   },
   "kernels_config": {
    "python": {
     "delete_cmd_postfix": "",
     "delete_cmd_prefix": "del ",
     "library": "var_list.py",
     "varRefreshCmd": "print(var_dic_list())"
    },
    "r": {
     "delete_cmd_postfix": ") ",
     "delete_cmd_prefix": "rm(",
     "library": "var_list.r",
     "varRefreshCmd": "cat(var_dic_list()) "
    }
   },
   "types_to_exclude": [
    "module",
    "function",
    "builtin_function_or_method",
    "instance",
    "_Feature"
   ],
   "window_display": false
  }
 },
 "nbformat": 4,
 "nbformat_minor": 4
}
